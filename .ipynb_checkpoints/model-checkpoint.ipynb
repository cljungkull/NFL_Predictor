{
 "cells": [
  {
   "cell_type": "code",
   "execution_count": 4,
   "metadata": {},
   "outputs": [
    {
     "name": "stdout",
     "output_type": "stream",
     "text": [
      "Collecting hyperopt\n",
      "  Downloading https://files.pythonhosted.org/packages/0b/4a/79541d4f61e7878f846f68ab31ed709bac6ee99345378c0e02658c3be0d4/hyperopt-0.2.2-py3-none-any.whl (1.9MB)\n",
      "Requirement already satisfied: scipy in c:\\users\\chrisljungkull\\anaconda3\\envs\\pythondata\\lib\\site-packages (from hyperopt) (1.2.1)\n",
      "Collecting tqdm (from hyperopt)\n",
      "  Downloading https://files.pythonhosted.org/packages/bb/62/6f823501b3bf2bac242bd3c320b592ad1516b3081d82c77c1d813f076856/tqdm-4.39.0-py2.py3-none-any.whl (53kB)\n",
      "Requirement already satisfied: numpy in c:\\users\\chrisljungkull\\anaconda3\\envs\\pythondata\\lib\\site-packages (from hyperopt) (1.16.2)\n",
      "Requirement already satisfied: cloudpickle in c:\\users\\chrisljungkull\\anaconda3\\envs\\pythondata\\lib\\site-packages (from hyperopt) (0.8.0)\n",
      "Collecting future (from hyperopt)\n",
      "  Downloading https://files.pythonhosted.org/packages/45/0b/38b06fd9b92dc2b68d58b75f900e97884c45bedd2ff83203d933cf5851c9/future-0.18.2.tar.gz (829kB)\n",
      "Requirement already satisfied: six in c:\\users\\chrisljungkull\\anaconda3\\envs\\pythondata\\lib\\site-packages (from hyperopt) (1.12.0)\n",
      "Requirement already satisfied: networkx==2.2 in c:\\users\\chrisljungkull\\anaconda3\\envs\\pythondata\\lib\\site-packages (from hyperopt) (2.2)\n",
      "Requirement already satisfied: decorator>=4.3.0 in c:\\users\\chrisljungkull\\anaconda3\\envs\\pythondata\\lib\\site-packages (from networkx==2.2->hyperopt) (4.4.0)\n",
      "Building wheels for collected packages: future\n",
      "  Building wheel for future (setup.py): started\n",
      "  Building wheel for future (setup.py): finished with status 'done'\n",
      "  Stored in directory: C:\\Users\\ChrisLjungkull\\AppData\\Local\\pip\\Cache\\wheels\\8b\\99\\a0\\81daf51dcd359a9377b110a8a886b3895921802d2fc1b2397e\n",
      "Successfully built future\n",
      "Installing collected packages: tqdm, future, hyperopt\n",
      "Successfully installed future-0.18.2 hyperopt-0.2.2 tqdm-4.39.0\n",
      "Note: you may need to restart the kernel to use updated packages.\n"
     ]
    }
   ],
   "source": [
    "pip install hyperopt"
   ]
  },
  {
   "cell_type": "code",
   "execution_count": 7,
   "metadata": {},
   "outputs": [
    {
     "name": "stdout",
     "output_type": "stream",
     "text": [
      "Collecting melo\n",
      "  Downloading https://files.pythonhosted.org/packages/ff/ab/20fb05f150413fd0fd02afa6f60e207ba617fd745c896695a44214f6a2a5/melo-1.1.0-py3-none-any.whl\n",
      "Requirement already satisfied: scipy>=0.18.0 in c:\\users\\chrisljungkull\\anaconda3\\envs\\pythondata\\lib\\site-packages (from melo) (1.2.1)\n",
      "Requirement already satisfied: numpy in c:\\users\\chrisljungkull\\anaconda3\\envs\\pythondata\\lib\\site-packages (from melo) (1.16.2)\n",
      "Installing collected packages: melo\n",
      "Successfully installed melo-1.1.0\n",
      "Note: you may need to restart the kernel to use updated packages.\n"
     ]
    }
   ],
   "source": [
    "pip install melo"
   ]
  },
  {
   "cell_type": "code",
   "execution_count": 8,
   "metadata": {},
   "outputs": [],
   "source": [
    "from datetime import datetime\n",
    "import logging\n",
    "import operator\n",
    "import os\n",
    "import pickle"
   ]
  },
  {
   "cell_type": "code",
   "execution_count": 11,
   "metadata": {},
   "outputs": [],
   "source": [
    "from hyperopt import fmin, hp, tpe, Trials\n",
    "import matplotlib.pyplot as plt\n",
    "from melo import Melo\n",
    "import numpy as np\n",
    "import pandas as pd\n"
   ]
  },
  {
   "cell_type": "code",
   "execution_count": 12,
   "metadata": {},
   "outputs": [
    {
     "ename": "ModuleNotFoundError",
     "evalue": "No module named '__main__.data'; '__main__' is not a package",
     "output_type": "error",
     "traceback": [
      "\u001b[1;31m---------------------------------------------------------------------------\u001b[0m",
      "\u001b[1;31mModuleNotFoundError\u001b[0m                       Traceback (most recent call last)",
      "\u001b[1;32m<ipython-input-12-fcbb8a0cbae4>\u001b[0m in \u001b[0;36m<module>\u001b[1;34m\u001b[0m\n\u001b[1;32m----> 1\u001b[1;33m \u001b[1;32mfrom\u001b[0m \u001b[1;33m.\u001b[0m\u001b[0mdata\u001b[0m \u001b[1;32mimport\u001b[0m \u001b[0mload_games\u001b[0m\u001b[1;33m,\u001b[0m \u001b[0mupdate_model\u001b[0m\u001b[1;33m\u001b[0m\u001b[1;33m\u001b[0m\u001b[0m\n\u001b[0m\u001b[0;32m      2\u001b[0m \u001b[1;32mfrom\u001b[0m \u001b[1;33m.\u001b[0m \u001b[1;32mimport\u001b[0m \u001b[0mcachedir\u001b[0m\u001b[1;33m\u001b[0m\u001b[1;33m\u001b[0m\u001b[0m\n",
      "\u001b[1;31mModuleNotFoundError\u001b[0m: No module named '__main__.data'; '__main__' is not a package"
     ]
    }
   ],
   "source": [
    "from .data import load_games, update_model\n",
    "from . import cachedir"
   ]
  }
 ],
 "metadata": {
  "kernelspec": {
   "display_name": "Python 3",
   "language": "python",
   "name": "python3"
  },
  "language_info": {
   "codemirror_mode": {
    "name": "ipython",
    "version": 3
   },
   "file_extension": ".py",
   "mimetype": "text/x-python",
   "name": "python",
   "nbconvert_exporter": "python",
   "pygments_lexer": "ipython3",
   "version": "3.6.8"
  }
 },
 "nbformat": 4,
 "nbformat_minor": 2
}
